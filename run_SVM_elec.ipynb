{
 "cells": [
  {
   "cell_type": "code",
   "execution_count": null,
   "id": "ab6a7712-1169-414c-be87-faf55bf199f6",
   "metadata": {},
   "outputs": [],
   "source": [
    "import numpy as np\n",
    "from sklearn import svm\n",
    "from sklearn.model_selection import GridSearchCV\n",
    "from sklearn.metrics import confusion_matrix\n",
    "from sklearn.metrics import ConfusionMatrixDisplay\n",
    "import pandas as pd\n",
    "import matplotlib.pyplot as plt\n",
    "import joblib # for saving and loading variables\n",
    "import os\n",
    "from sklearn.metrics import balanced_accuracy_score\n",
    "from sklearn.metrics import f1_score\n",
    "from pathlib import Path\n",
    "import seaborn as sns"
   ]
  },
  {
   "cell_type": "code",
   "execution_count": null,
   "id": "7e6b8b5f-9864-48e1-adc9-5207bf88a4da",
   "metadata": {},
   "outputs": [],
   "source": [
    "#plt.show()\n",
    "#%%\n",
    "#plt.figure(figsize=(15, 10))\n",
    "#plt.hist(test_labels, bins=np.arange(47) - 0.5, linewidth=1, edgecolor=\"white\")"
   ]
  },
  {
   "cell_type": "code",
   "execution_count": null,
   "id": "4150bef0-3092-4971-b754-ce4244ab09b1",
   "metadata": {},
   "outputs": [],
   "source": [
    "for it in range(1,2):\n",
    "    a = it\n",
    "    joblib.dump(a,'it.sav')\n",
    "    \n",
    "    print('current iteration',a)\n",
    "    \n",
    "    %run SVM_comp_Elec.ipynb\n",
    "    file = open(os.path.join(NewDirectory,'F1.txt'), 'w')\n",
    "    # Write content to the file\n",
    "    file.write(str(f1))\n",
    "    \n",
    "    \n",
    "    \n",
    "    \n",
    "    \n",
    "    \n",
    "    "
   ]
  },
  {
   "cell_type": "code",
   "execution_count": null,
   "id": "68a3395d-9de5-4b90-9f47-1aa81b558c37",
   "metadata": {},
   "outputs": [],
   "source": []
  },
  {
   "cell_type": "code",
   "execution_count": null,
   "id": "643b2b6a-823b-4386-84e8-8b457f1e2f46",
   "metadata": {},
   "outputs": [],
   "source": []
  },
  {
   "cell_type": "code",
   "execution_count": null,
   "id": "adf03853-7bfc-4dd0-8f7c-ef2c2b4e298e",
   "metadata": {},
   "outputs": [],
   "source": []
  },
  {
   "cell_type": "code",
   "execution_count": null,
   "id": "548e4084-8578-4f65-b2f5-2a6e643f18d9",
   "metadata": {},
   "outputs": [],
   "source": []
  },
  {
   "cell_type": "code",
   "execution_count": null,
   "id": "ada5e2b0-fe5e-499f-bb33-175e426493f8",
   "metadata": {},
   "outputs": [],
   "source": []
  },
  {
   "cell_type": "code",
   "execution_count": null,
   "id": "38e141e5-aafe-47c5-a269-06894f0f58bd",
   "metadata": {},
   "outputs": [],
   "source": []
  },
  {
   "cell_type": "code",
   "execution_count": null,
   "id": "ad895375-008b-4266-a000-318bbfe92adb",
   "metadata": {},
   "outputs": [],
   "source": []
  },
  {
   "cell_type": "code",
   "execution_count": null,
   "id": "cabbf9b7-bf39-476a-b1be-bddc1aaab64a",
   "metadata": {},
   "outputs": [],
   "source": []
  }
 ],
 "metadata": {
  "kernelspec": {
   "display_name": "Python 3 (ipykernel)",
   "language": "python",
   "name": "python3"
  },
  "language_info": {
   "codemirror_mode": {
    "name": "ipython",
    "version": 3
   },
   "file_extension": ".py",
   "mimetype": "text/x-python",
   "name": "python",
   "nbconvert_exporter": "python",
   "pygments_lexer": "ipython3",
   "version": "3.10.9"
  }
 },
 "nbformat": 4,
 "nbformat_minor": 5
}
